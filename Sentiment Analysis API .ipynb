{
 "cells": [
  {
   "cell_type": "code",
   "execution_count": 1,
   "metadata": {},
   "outputs": [],
   "source": [
    "import numpy as np \n",
    "import pandas as pd \n",
    "import re\n",
    "import nltk \n",
    "import matplotlib.pyplot as plt\n",
    "%matplotlib inline"
   ]
  },
  {
   "cell_type": "code",
   "execution_count": 2,
   "metadata": {},
   "outputs": [],
   "source": [
    "data = pd.read_csv(r'C:\\Users\\user\\Downloads\\airline_sentiment_analysis.csv')"
   ]
  },
  {
   "cell_type": "code",
   "execution_count": 3,
   "metadata": {},
   "outputs": [
    {
     "name": "stdout",
     "output_type": "stream",
     "text": [
      "       Unnamed: 0 airline_sentiment  \\\n",
      "0               1          positive   \n",
      "1               3          negative   \n",
      "2               4          negative   \n",
      "3               5          negative   \n",
      "4               6          positive   \n",
      "...           ...               ...   \n",
      "11536       14633          negative   \n",
      "11537       14634          negative   \n",
      "11538       14635          positive   \n",
      "11539       14636          negative   \n",
      "11540       14638          negative   \n",
      "\n",
      "                                                    text  \n",
      "0      @VirginAmerica plus you've added commercials t...  \n",
      "1      @VirginAmerica it's really aggressive to blast...  \n",
      "2      @VirginAmerica and it's a really big bad thing...  \n",
      "3      @VirginAmerica seriously would pay $30 a fligh...  \n",
      "4      @VirginAmerica yes, nearly every time I fly VX...  \n",
      "...                                                  ...  \n",
      "11536  @AmericanAir my flight was Cancelled Flightled...  \n",
      "11537         @AmericanAir right on cue with the delays👌  \n",
      "11538  @AmericanAir thank you we got on a different f...  \n",
      "11539  @AmericanAir leaving over 20 minutes Late Flig...  \n",
      "11540  @AmericanAir you have my money, you change my ...  \n",
      "\n",
      "[11541 rows x 3 columns]\n"
     ]
    }
   ],
   "source": [
    "print(data)"
   ]
  },
  {
   "cell_type": "code",
   "execution_count": 4,
   "metadata": {},
   "outputs": [],
   "source": [
    "airline_tweets = pd.read_csv((r'C:\\Users\\user\\Downloads\\airline_sentiment_analysis.csv'))"
   ]
  },
  {
   "cell_type": "code",
   "execution_count": 5,
   "metadata": {},
   "outputs": [
    {
     "data": {
      "text/html": [
       "<div>\n",
       "<style scoped>\n",
       "    .dataframe tbody tr th:only-of-type {\n",
       "        vertical-align: middle;\n",
       "    }\n",
       "\n",
       "    .dataframe tbody tr th {\n",
       "        vertical-align: top;\n",
       "    }\n",
       "\n",
       "    .dataframe thead th {\n",
       "        text-align: right;\n",
       "    }\n",
       "</style>\n",
       "<table border=\"1\" class=\"dataframe\">\n",
       "  <thead>\n",
       "    <tr style=\"text-align: right;\">\n",
       "      <th></th>\n",
       "      <th>Unnamed: 0</th>\n",
       "      <th>airline_sentiment</th>\n",
       "      <th>text</th>\n",
       "    </tr>\n",
       "  </thead>\n",
       "  <tbody>\n",
       "    <tr>\n",
       "      <th>0</th>\n",
       "      <td>1</td>\n",
       "      <td>positive</td>\n",
       "      <td>@VirginAmerica plus you've added commercials t...</td>\n",
       "    </tr>\n",
       "    <tr>\n",
       "      <th>1</th>\n",
       "      <td>3</td>\n",
       "      <td>negative</td>\n",
       "      <td>@VirginAmerica it's really aggressive to blast...</td>\n",
       "    </tr>\n",
       "    <tr>\n",
       "      <th>2</th>\n",
       "      <td>4</td>\n",
       "      <td>negative</td>\n",
       "      <td>@VirginAmerica and it's a really big bad thing...</td>\n",
       "    </tr>\n",
       "    <tr>\n",
       "      <th>3</th>\n",
       "      <td>5</td>\n",
       "      <td>negative</td>\n",
       "      <td>@VirginAmerica seriously would pay $30 a fligh...</td>\n",
       "    </tr>\n",
       "    <tr>\n",
       "      <th>4</th>\n",
       "      <td>6</td>\n",
       "      <td>positive</td>\n",
       "      <td>@VirginAmerica yes, nearly every time I fly VX...</td>\n",
       "    </tr>\n",
       "  </tbody>\n",
       "</table>\n",
       "</div>"
      ],
      "text/plain": [
       "   Unnamed: 0 airline_sentiment  \\\n",
       "0           1          positive   \n",
       "1           3          negative   \n",
       "2           4          negative   \n",
       "3           5          negative   \n",
       "4           6          positive   \n",
       "\n",
       "                                                text  \n",
       "0  @VirginAmerica plus you've added commercials t...  \n",
       "1  @VirginAmerica it's really aggressive to blast...  \n",
       "2  @VirginAmerica and it's a really big bad thing...  \n",
       "3  @VirginAmerica seriously would pay $30 a fligh...  \n",
       "4  @VirginAmerica yes, nearly every time I fly VX...  "
      ]
     },
     "execution_count": 5,
     "metadata": {},
     "output_type": "execute_result"
    }
   ],
   "source": [
    "airline_tweets.head()"
   ]
  },
  {
   "cell_type": "code",
   "execution_count": 7,
   "metadata": {},
   "outputs": [
    {
     "data": {
      "text/html": [
       "<div>\n",
       "<style scoped>\n",
       "    .dataframe tbody tr th:only-of-type {\n",
       "        vertical-align: middle;\n",
       "    }\n",
       "\n",
       "    .dataframe tbody tr th {\n",
       "        vertical-align: top;\n",
       "    }\n",
       "\n",
       "    .dataframe thead th {\n",
       "        text-align: right;\n",
       "    }\n",
       "</style>\n",
       "<table border=\"1\" class=\"dataframe\">\n",
       "  <thead>\n",
       "    <tr style=\"text-align: right;\">\n",
       "      <th></th>\n",
       "      <th>Unnamed: 0</th>\n",
       "    </tr>\n",
       "  </thead>\n",
       "  <tbody>\n",
       "    <tr>\n",
       "      <th>count</th>\n",
       "      <td>11541.000000</td>\n",
       "    </tr>\n",
       "    <tr>\n",
       "      <th>mean</th>\n",
       "      <td>7456.888311</td>\n",
       "    </tr>\n",
       "    <tr>\n",
       "      <th>std</th>\n",
       "      <td>4298.601764</td>\n",
       "    </tr>\n",
       "    <tr>\n",
       "      <th>min</th>\n",
       "      <td>1.000000</td>\n",
       "    </tr>\n",
       "    <tr>\n",
       "      <th>25%</th>\n",
       "      <td>3614.000000</td>\n",
       "    </tr>\n",
       "    <tr>\n",
       "      <th>50%</th>\n",
       "      <td>7601.000000</td>\n",
       "    </tr>\n",
       "    <tr>\n",
       "      <th>75%</th>\n",
       "      <td>11221.000000</td>\n",
       "    </tr>\n",
       "    <tr>\n",
       "      <th>max</th>\n",
       "      <td>14638.000000</td>\n",
       "    </tr>\n",
       "  </tbody>\n",
       "</table>\n",
       "</div>"
      ],
      "text/plain": [
       "         Unnamed: 0\n",
       "count  11541.000000\n",
       "mean    7456.888311\n",
       "std     4298.601764\n",
       "min        1.000000\n",
       "25%     3614.000000\n",
       "50%     7601.000000\n",
       "75%    11221.000000\n",
       "max    14638.000000"
      ]
     },
     "execution_count": 7,
     "metadata": {},
     "output_type": "execute_result"
    }
   ],
   "source": [
    "data.describe()"
   ]
  },
  {
   "cell_type": "code",
   "execution_count": 24,
   "metadata": {},
   "outputs": [],
   "source": [
    "X=data.iloc[:,:=1].values\n",
    "y=data.iloc[:,-1].values\n"
   ]
  },
  {
   "cell_type": "code",
   "execution_count": 15,
   "metadata": {},
   "outputs": [],
   "source": [
    "from sklearn.model_selection import train_test_split\n",
    "X_train, X_test, y_train, y_test = train_test_split(X, y, test_size = 0.15, random_state = 0)"
   ]
  },
  {
   "cell_type": "code",
   "execution_count": 16,
   "metadata": {},
   "outputs": [
    {
     "data": {
      "text/plain": [
       "array(['@united who is in charge of making decisions over there? Cancelled Flightling flight UA1150 was unacceptable. I should be in #Belize right now.',\n",
       "       \"@united great decision making skills flight ops IAH bag makes a 10 minute connection and I don't, flight pushed early. Disappointed!!!!\",\n",
       "       \"@AmericanAir so what if I didn't have the funds to purchase another ticket? Your error would cause my family to miss the funeral\",\n",
       "       ...,\n",
       "       \"@united after 2 days - 1 flight Cancelled Flightled, another delay for 8 hours- united gave me a $7 food voucher. That's how much they value my time??\",\n",
       "       '@united provide a voucher for one of my customers and I will tweet about you all day long #earnedmybusiness',\n",
       "       '@USAirways yeah , I have been expecting The same for 3 hours'],\n",
       "      dtype=object)"
      ]
     },
     "execution_count": 16,
     "metadata": {},
     "output_type": "execute_result"
    }
   ],
   "source": [
    "y_test"
   ]
  },
  {
   "cell_type": "code",
   "execution_count": 17,
   "metadata": {},
   "outputs": [],
   "source": [
    "X_train, X_test, y_train, y_test = train_test_split(X, y, test_size = 0.15,random_state=50)"
   ]
  },
  {
   "cell_type": "code",
   "execution_count": 18,
   "metadata": {},
   "outputs": [
    {
     "data": {
      "text/plain": [
       "array([\"@SouthwestAir couldn't be bothered to help with my lost my luggage. Not a single helpful employee owner to be found in BWI.\",\n",
       "       \"@USAirways if one with @AmericanAir why can't you use American miles????\",\n",
       "       '@VirginAmerica yes, nearly every time I fly VX this “ear worm” won’t go away :)',\n",
       "       ...,\n",
       "       \"@JetBlue Capital One and I explained the false fraud alert. Why did the Jet Blue representative issue me a new tkt if it wasn't resolved?\",\n",
       "       \"@AmericanAir 2nd time in 4 days that my flight has been delayed and my gate agent hasn't said anything! Thanks for the memories. #NeverAgain\",\n",
       "       '@JetBlue, thanks for not guarantee that you can not deli ever my bags to my hotel, when bag missed connection. #sFO #customerservicenot'],\n",
       "      dtype=object)"
      ]
     },
     "execution_count": 18,
     "metadata": {},
     "output_type": "execute_result"
    }
   ],
   "source": [
    "y_train"
   ]
  },
  {
   "cell_type": "code",
   "execution_count": 85,
   "metadata": {},
   "outputs": [],
   "source": [
    "# random split train and test data\n",
    "index = data.index\n",
    "data['random_number'] = np.random.randn(len(index))\n",
    "train = data[data['random_number'] <= 0.8]\n",
    "test = data[data['random_number'] > 0.8]"
   ]
  },
  {
   "cell_type": "code",
   "execution_count": 87,
   "metadata": {},
   "outputs": [],
   "source": [
    "from sklearn.feature_extraction.text import CountVectorizer\n",
    "vectorizer = CountVectorizer(token_pattern=r'\\b\\w+\\b')\n",
    "train_matrix = vectorizer.fit_transform(train['text'])\n",
    "test_matrix = vectorizer.transform(test['text'])"
   ]
  },
  {
   "cell_type": "code",
   "execution_count": 88,
   "metadata": {},
   "outputs": [],
   "source": [
    "from sklearn.linear_model import LogisticRegression\n",
    "lr = LogisticRegression()"
   ]
  },
  {
   "cell_type": "code",
   "execution_count": 89,
   "metadata": {},
   "outputs": [],
   "source": [
    "X_train = train_matrix\n",
    "X_test = test_matrix\n",
    "y_train = train['sentiment']\n",
    "y_test = test['sentiment']"
   ]
  },
  {
   "cell_type": "code",
   "execution_count": 90,
   "metadata": {},
   "outputs": [
    {
     "data": {
      "text/plain": [
       "LogisticRegression()"
      ]
     },
     "execution_count": 90,
     "metadata": {},
     "output_type": "execute_result"
    }
   ],
   "source": [
    "lr.fit(X_train,y_train)"
   ]
  },
  {
   "cell_type": "code",
   "execution_count": 92,
   "metadata": {},
   "outputs": [
    {
     "data": {
      "text/plain": [
       "array([[2467]], dtype=int64)"
      ]
     },
     "execution_count": 92,
     "metadata": {},
     "output_type": "execute_result"
    }
   ],
   "source": [
    "from sklearn.metrics import confusion_matrix,classification_report\n",
    "new = np.asarray(y_test)\n",
    "confusion_matrix(predictions,y_test)"
   ]
  },
  {
   "cell_type": "code",
   "execution_count": 75,
   "metadata": {},
   "outputs": [],
   "source": [
    "\n",
    "import requests\n",
    "import json\n",
    "from pandas.io.json import json_normalize\n",
    "import config\n",
    "\n",
    "\n",
    "class RidbData():\n",
    "   def __init__(self, name, endpoint, url_params):\n",
    "      self.df = pd.DataFrame()\n",
    "      self.endpoint = endpoint\n",
    "      self.url_params = url_params\n",
    "      self.name = name\n",
    "\n",
    "   def clean(self) :\n",
    "      # by replacing '' with np.NaN we can use dropna to remove rows missing \n",
    "      # required data, like lat/longs\n",
    "      self.df = self.df.replace('', np.nan)\n",
    "\n",
    "      # normalize column names for lat and long. i.e. can be \n",
    "      # FacilityLatitude or RecAreaLatitude\n",
    "      self.df.columns = self.df.columns.str.replace('.*Latitude', 'Latitude')\n",
    "      self.df.columns = self.df.columns.str.replace('.*Longitude', 'Longitude')\n",
    "      self.df = self.df.dropna(subset=['Latitude','Longitude'])\n",
    "\n",
    "   def extract(self):\n",
    "      request_url = self.endpoint\n",
    "      response = requests.get(url=self.endpoint,params=self.url_params)\n",
    "      data = json.loads(response.text)\n",
    "      self.df = json_normalize(data['RECDATA'])"
   ]
  },
  {
   "cell_type": "code",
   "execution_count": 76,
   "metadata": {},
   "outputs": [],
   "source": [
    "def get_ridb_data(endpoint,url_params):\n",
    "   response = requests.get(url = endpoint, params = url_params)\n",
    "   data = json.loads(response.text)\n",
    "   df = json_normalize(data['RECDATA'])\n",
    "   df = df.replace('', np.nan)\n",
    "   df.columns = df.columns.str.replace('.*Latitude', 'Latitude')\n",
    "   df.columns = df.columns.str.replace('.*Longitude', 'Longitude')\n",
    "   df = df.dropna(subset=['Latitude','Longitude'])\n",
    "   return df\n"
   ]
  },
  {
   "cell_type": "code",
   "execution_count": 77,
   "metadata": {},
   "outputs": [],
   "source": [
    "def get_ridb_data(endpoint,url_params):\n",
    "   response = requests.get(url = endpoint, params = url_params)\n",
    "   data = json.loads(response.text)\n",
    "   df = json_normalize(data['RECDATA'])\n",
    "   df = df.replace('', np.nan)\n",
    "   df.columns = df.columns.str.replace('.*Latitude', 'Latitude')\n",
    "   df.columns = df.columns.str.replace('.*Longitude', 'Longitude')\n",
    "   df = df.dropna(subset=['Latitude','Longitude'])\n",
    "   return df\n",
    "\n",
    "def get_ridb_facility_media(endpoint, url_params):\n",
    "   # endpoint = https://ridb.recreation.gov/api/v1/facilities/facilityID/media/  \n",
    "   response = requests.get(url = endpoint, params = url_params) \n",
    "   data = json.loads(response.text)\n",
    "   df = json_normalize(data['RECDATA'])\n",
    "   df = df[df['MediaType'] == 'Image']\n",
    "   return df"
   ]
  },
  {
   "cell_type": "code",
   "execution_count": 67,
   "metadata": {},
   "outputs": [],
   "source": [
    "data = data[data['Unnamed: 0'] != 3]\n",
    "data['sentiment'] = data['Unnamed: 0'].apply(lambda rating : +1 if rating > 3 else -1)"
   ]
  },
  {
   "cell_type": "code",
   "execution_count": 69,
   "metadata": {},
   "outputs": [],
   "source": [
    "positive = data[data['sentiment'] == 1]\n",
    "negative = data[data['sentiment'] == -1]"
   ]
  },
  {
   "cell_type": "code",
   "execution_count": 27,
   "metadata": {},
   "outputs": [
    {
     "name": "stdout",
     "output_type": "stream",
     "text": [
      "6.0\n",
      "4.0\n"
     ]
    }
   ],
   "source": [
    "plot_size = plt.rcParams[\"figure.figsize\"] \n",
    "print(plot_size[0]) \n",
    "print(plot_size[1])\n",
    "\n",
    "plot_size[0] = 8\n",
    "plot_size[1] = 6\n",
    "plt.rcParams[\"figure.figsize\"] = plot_size "
   ]
  },
  {
   "cell_type": "code",
   "execution_count": 96,
   "metadata": {},
   "outputs": [
    {
     "data": {
      "text/plain": [
       "<AxesSubplot:xlabel='Unnamed: 0'>"
      ]
     },
     "execution_count": 96,
     "metadata": {},
     "output_type": "execute_result"
    },
    {
     "data": {
      "image/png": "[encoded data removed]",
      "text/plain": [
       "<Figure size 432x288 with 1 Axes>"
      ]
     },
     "metadata": {
      "needs_background": "light"
     },
     "output_type": "display_data"
    }
   ],
   "source": [
    "airline_sentiment = airline_tweets.groupby(['Unnamed: 0', 'airline_sentiment']).airline_sentiment.count().unstack()\n",
    "airline_sentiment.plot(kind='bar')"
   ]
  },
  {
   "cell_type": "code",
   "execution_count": 28,
   "metadata": {},
   "outputs": [
    {
     "data": {
      "text/plain": [
       "<AxesSubplot:xlabel='airline_sentiment', ylabel='Unnamed: 0'>"
      ]
     },
     "execution_count": 28,
     "metadata": {},
     "output_type": "execute_result"
    },
    {
     "data": {
      "image/png": "[encoded data removed]",
      "text/plain": [
       "<Figure size 576x432 with 1 Axes>"
      ]
     },
     "metadata": {
      "needs_background": "light"
     },
     "output_type": "display_data"
    }
   ],
   "source": [
    "import seaborn as sns\n",
    "\n",
    "sns.barplot(x='airline_sentiment', y='Unnamed: 0' , data=airline_tweets)\n"
   ]
  },
  {
   "cell_type": "code",
   "execution_count": 29,
   "metadata": {},
   "outputs": [],
   "source": [
    "features = airline_tweets.iloc[:, 1].values\n",
    "labels = airline_tweets.iloc[:, 1].values"
   ]
  },
  {
   "cell_type": "code",
   "execution_count": 30,
   "metadata": {},
   "outputs": [],
   "source": [
    "processed_features = []\n",
    "\n",
    "for sentence in range(0, len(features)):\n",
    "    # Remove all the special characters\n",
    "    processed_feature = re.sub(r'\\W', ' ', str(features[sentence]))\n",
    "\n",
    "    # remove all single characters\n",
    "    processed_feature= re.sub(r'\\s+[a-zA-Z]\\s+', ' ', processed_feature)\n",
    "\n",
    "    # Remove single characters from the start\n",
    "    processed_feature = re.sub(r'\\^[a-zA-Z]\\s+', ' ', processed_feature) \n",
    "\n",
    "    # Substituting multiple spaces with single space\n",
    "    processed_feature = re.sub(r'\\s+', ' ', processed_feature, flags=re.I)\n",
    "\n",
    "    # Removing prefixed 'b'\n",
    "    processed_feature = re.sub(r'^b\\s+', '', processed_feature)\n",
    "\n",
    "    # Converting to Lowercase\n",
    "    processed_feature = processed_feature.lower()\n",
    "\n",
    "    processed_features.append(processed_feature)"
   ]
  },
  {
   "cell_type": "code",
   "execution_count": 31,
   "metadata": {},
   "outputs": [],
   "source": [
    "from nltk.corpus import stopwords\n",
    "from sklearn.feature_extraction.text import TfidfVectorizer\n",
    "\n",
    "vectorizer = TfidfVectorizer (max_features=2500, min_df=7, max_df=0.8, stop_words=stopwords.words('english'))\n",
    "processed_features = vectorizer.fit_transform(processed_features).toarray()\n"
   ]
  },
  {
   "cell_type": "code",
   "execution_count": 32,
   "metadata": {},
   "outputs": [],
   "source": [
    "from sklearn.model_selection import train_test_split\n",
    "\n",
    "X_train, X_test, y_train, y_test = train_test_split(processed_features, labels, test_size=0.2, random_state=0)"
   ]
  },
  {
   "cell_type": "code",
   "execution_count": 33,
   "metadata": {},
   "outputs": [
    {
     "data": {
      "text/plain": [
       "RandomForestClassifier(n_estimators=200, random_state=0)"
      ]
     },
     "execution_count": 33,
     "metadata": {},
     "output_type": "execute_result"
    }
   ],
   "source": [
    "from sklearn.ensemble import RandomForestClassifier\n",
    "\n",
    "text_classifier = RandomForestClassifier(n_estimators=200, random_state=0)\n",
    "text_classifier.fit(X_train, y_train)"
   ]
  },
  {
   "cell_type": "code",
   "execution_count": 34,
   "metadata": {},
   "outputs": [],
   "source": [
    "predictions = text_classifier.predict(X_test)"
   ]
  },
  {
   "cell_type": "code",
   "execution_count": 35,
   "metadata": {},
   "outputs": [
    {
     "name": "stdout",
     "output_type": "stream",
     "text": [
      "[[1839    0]\n",
      " [   0  470]]\n",
      "              precision    recall  f1-score   support\n",
      "\n",
      "    negative       1.00      1.00      1.00      1839\n",
      "    positive       1.00      1.00      1.00       470\n",
      "\n",
      "    accuracy                           1.00      2309\n",
      "   macro avg       1.00      1.00      1.00      2309\n",
      "weighted avg       1.00      1.00      1.00      2309\n",
      "\n",
      "1.0\n"
     ]
    }
   ],
   "source": [
    "from sklearn.metrics import classification_report, confusion_matrix, accuracy_score\n",
    "\n",
    "print(confusion_matrix(y_test,predictions))\n",
    "print(classification_report(y_test,predictions))\n",
    "print(accuracy_score(y_test, predictions))"
   ]
  },
  {
   "cell_type": "code",
   "execution_count": null,
   "metadata": {},
   "outputs": [
    {
     "name": "stderr",
     "output_type": "stream",
     "text": [
      "127.0.0.1 - - [27/Nov/2020 20:16:20] \"GET / HTTP/1.1\" 200 12\n",
      "127.0.0.1 - - [27/Nov/2020 20:16:20] \"GET /favicon.ico HTTP/1.1\" 404 164\n"
     ]
    }
   ],
   "source": [
    "from wsgiref.simple_server import make_server\n",
    "from pyramid.config import Configurator\n",
    "from pyramid.response import Response\n",
    "\n",
    "\n",
    "def hello_world(request):\n",
    "    return Response('Hello World!')\n",
    "\n",
    "\n",
    "if __name__ == '__main__':\n",
    "    with Configurator() as config:\n",
    "        config.add_route('hello', '/')\n",
    "        config.add_view(hello_world, route_name='hello')\n",
    "        app = config.make_wsgi_app()\n",
    "    server = make_server('0.0.0.0', 6543, app)\n",
    "    server.serve_forever()"
   ]
  },
  {
   "cell_type": "code",
   "execution_count": null,
   "metadata": {},
   "outputs": [],
   "source": [
    "import pytest"
   ]
  },
  {
   "cell_type": "code",
   "execution_count": 19,
   "metadata": {},
   "outputs": [],
   "source": [
    "from __future__ import unicode_literals\n",
    "\n",
    "from collections import namedtuple\n",
    "from copy import deepcopy\n",
    "\n",
    "import jsonschema\n",
    "import simplejson\n",
    "from jsonschema import RefResolver\n",
    "from jsonschema import validators\n",
    "from jsonschema.exceptions import ValidationError\n",
    "from jsonschema.validators import Draft3Validator\n",
    "from jsonschema.validators import Draft4Validator\n",
    "from six import iteritems"
   ]
  },
  {
   "cell_type": "code",
   "execution_count": 20,
   "metadata": {},
   "outputs": [],
   "source": [
    " def __call__(self, value, system):\n",
    "        response = system['request'].response\n",
    "        response.headers['Content-Type'] = 'application/x-yaml; charset=UTF-8'\n",
    "        return yaml.dump(value).encode('utf-8')\n",
    "        return yaml.safe_dump(value).encode('utf-8')\n",
    "\n",
    "\n",
    "#def build_swagger_20_swagger_schema_views(config)\n"
   ]
  },
  {
   "cell_type": "code",
   "execution_count": 21,
   "metadata": {},
   "outputs": [],
   "source": [
    "def validate_yaml_response(response, expected_dict):\n",
    "    assert response.headers['content-type'] == 'application/x-yaml; charset=UTF-8'\n",
    "    assert _strip_xmodel(yaml.load(response.body)) == expected_dict\n",
    "    assert _strip_xmodel(yaml.safe_load(response.body)) == expected_dict\n",
    "\n",
    "\n",
    "def _rewrite_ref(ref, schema_format):\n",
    "    if schema_format == 'yaml':\n",
    "        return ref  # all refs are already yaml\n",
    "    return ref.replace('.yaml', '.%s' % schema_format)\n",
    "def _recursively_rewrite_refs(schema_item, schema_format):\n",
    "    if isinstance(schema_item, dict):\n",
    "        for key, value in schema_item.items():\n",
    "             if key == '$ref':\n",
    "                schema_item[key] = _rewrite_ref(value, schema_format)\n",
    "           # else:\n",
    "                _recursively_rewrite_refs(value, schema_format)\n",
    "    elif isinstance(schema_item, list):\n",
    "        for item in schema_item:\n",
    "            _recursively_rewrite_refs(item, schema_format)\n",
    "@pytest.mark.parametrize('schema_format', ['json', 'yaml'])\n",
    "@pytest.mark.parametrize('test_file', ['swagger', 'defs'])\n",
    "def test_swagger_json_api_doc_route(testapp_with_base64, test_file, schema_format):\n",
    "    validation_method = {\n",
    "        'yaml': validate_yaml_response,\n",
    "        'json': validate_json_response,\n",
    "    }\n",
    "    url = '/%s.%s' % (test_file, schema_format)\n",
    "    response = testapp_with_base64.get(url)\n",
    "    assert response.status_code == 200\n",
    "    fname = 'tests/sample_schemas/yaml_app/%s.yaml' % test_file\n",
    "    with open(fname, 'r') as f:\n",
    "        expected_schema = yaml.load(f)\n",
    "        expected_schema = yaml.safe_load(f)\n",
    "\n",
    "    _recursively_rewrite_refs(expected_schema, schema_format)\n",
    "\n",
    "    validation_method[schema_format](response, expected_schema)\n",
    "    "
   ]
  },
  {
   "cell_type": "code",
   "execution_count": null,
   "metadata": {},
   "outputs": [],
   "source": []
  },
  {
   "cell_type": "code",
   "execution_count": null,
   "metadata": {},
   "outputs": [],
   "source": []
  }
 ],
 "metadata": {
  "kernelspec": {
   "display_name": "Python 3",
   "language": "python",
   "name": "python3"
  },
  "language_info": {
   "codemirror_mode": {
    "name": "ipython",
    "version": 3
   },
   "file_extension": ".py",
   "mimetype": "text/x-python",
   "name": "python",
   "nbconvert_exporter": "python",
   "pygments_lexer": "ipython3",
   "version": "3.7.9"
  }
 },
 "nbformat": 4,
 "nbformat_minor": 4
}
